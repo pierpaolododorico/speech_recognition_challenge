{
 "cells": [
  {
   "cell_type": "markdown",
   "metadata": {},
   "source": [
    "# Models\n",
    "\n",
    "Here you have to implement a model (or more models, for finding the most accurate) for classification.\n",
    "\n",
    "You can use the [`sklearn`](https://scikit-learn.org/stable/) (or optionally other more advanced frameworks such as [`pytorch`](https://pytorch.org/) or [`tensorflow`](https://www.tensorflow.org/)) package that contains a pool of models already implemented that perform classification. (SVMs, NNs, LR, kNN, ...)"
   ]
  },
  {
   "cell_type": "code",
   "execution_count": 3,
   "metadata": {
    "ExecuteTime": {
     "end_time": "2020-12-30T10:20:51.106237Z",
     "start_time": "2020-12-30T10:20:51.102246Z"
    }
   },
   "outputs": [],
   "source": [
    "# evaluation function\n",
    "\n",
    "def accuracy(y_pred, y_true):\n",
    "    '''\n",
    "    input y_pred: ndarray of shape (N,)\n",
    "    input y_true: ndarray of shape (N,)\n",
    "    '''\n",
    "    return (1.0 * (y_pred == y_true)).mean()"
   ]
  },
  {
   "cell_type": "code",
<<<<<<< HEAD
   "execution_count": 4,
   "metadata": {
    "ExecuteTime": {
     "end_time": "2020-12-30T10:20:52.789589Z",
     "start_time": "2020-12-30T10:20:51.252237Z"
    }
   },
   "outputs": [
    {
     "name": "stderr",
     "output_type": "stream",
     "text": [
      "C:\\Users\\Max\\anaconda3\\lib\\site-packages\\numpy\\_distributor_init.py:32: UserWarning: loaded more than 1 DLL from .libs:\n",
      "C:\\Users\\Max\\anaconda3\\lib\\site-packages\\numpy\\.libs\\libopenblas.NOIJJG62EMASZI6NYURL6JBKM4EVBGM7.gfortran-win_amd64.dll\n",
      "C:\\Users\\Max\\anaconda3\\lib\\site-packages\\numpy\\.libs\\libopenblas.PYQHXLVVQ7VESDPUVUADXEVJOBGHJPAY.gfortran-win_amd64.dll\n",
      "  stacklevel=1)\n"
     ]
    }
   ],
=======
   "execution_count": 3,
   "metadata": {},
   "outputs": [],
>>>>>>> 102a1c6bdb58dbdafd841588f4193c298520840e
   "source": [
    "import numpy as np\n",
    "import pandas as pd\n",
    "import matplotlib.pyplot as plt"
   ]
  },
  {
   "cell_type": "code",
<<<<<<< HEAD
   "execution_count": 5,
   "metadata": {
    "ExecuteTime": {
     "end_time": "2020-12-30T10:20:54.645931Z",
     "start_time": "2020-12-30T10:20:52.789589Z"
    }
   },
=======
   "execution_count": 4,
   "metadata": {},
>>>>>>> 102a1c6bdb58dbdafd841588f4193c298520840e
   "outputs": [],
   "source": [
    "from numpy import loadtxt\n",
    "\n",
    "x_train = loadtxt('processed_data/x_train.csv', delimiter=',')\n",
    "x_validation = loadtxt('processed_data/x_validation.csv', delimiter=',')\n",
    "y_train = loadtxt('processed_data/y_train.csv', delimiter=',')\n",
    "y_validation = loadtxt('processed_data/y_validation.csv', delimiter=',')"
   ]
  },
  {
   "cell_type": "code",
<<<<<<< HEAD
   "execution_count": 6,
   "metadata": {
    "ExecuteTime": {
     "end_time": "2020-12-30T10:20:56.377349Z",
     "start_time": "2020-12-30T10:20:54.645931Z"
    },
    "scrolled": true
   },
   "outputs": [
    {
     "name": "stdout",
     "output_type": "stream",
     "text": [
      "Shape of train set: (1600, 1024)\n",
      "Shape of validation set: (109, 1024)\n",
      "Number of classes: 7\n"
     ]
    }
   ],
=======
   "execution_count": 5,
   "metadata": {},
   "outputs": [],
>>>>>>> 102a1c6bdb58dbdafd841588f4193c298520840e
   "source": [
    "from sklearn.preprocessing import StandardScaler\n",
    "\n",
    "sc = StandardScaler()\n",
    "x_train = sc.fit_transform(x_train)\n",
    "x_validation = sc.transform(x_validation)\n",
    "print(\"Shape of train set: {}\".format(x_train.shape))\n",
    "print(\"Shape of validation set: {}\".format(x_validation.shape))\n",
    "print(\"Number of classes: {}\".format(int(max(y_train))))\n"
   ]
  },
  {
<<<<<<< HEAD
   "cell_type": "markdown",
   "metadata": {},
   "source": [
    "# Linear models"
   ]
  },
  {
   "cell_type": "markdown",
   "metadata": {},
   "source": [
    "### Logistic Regression"
=======
   "cell_type": "markdown",
   "metadata": {},
   "source": [
    "## Model exploration"
>>>>>>> 102a1c6bdb58dbdafd841588f4193c298520840e
   ]
  },
  {
   "cell_type": "code",
   "execution_count": 7,
   "metadata": {
    "ExecuteTime": {
     "end_time": "2020-12-30T10:25:12.446965Z",
     "start_time": "2020-12-30T10:20:56.379346Z"
    }
   },
   "outputs": [
    {
     "data": {
      "application/vnd.jupyter.widget-view+json": {
       "model_id": "2f128d05c019465d9d351afb4eb17458",
       "version_major": 2,
       "version_minor": 0
      },
      "text/plain": [
       "HBox(children=(FloatProgress(value=0.0, max=15.0), HTML(value='')))"
      ]
     },
     "metadata": {},
     "output_type": "display_data"
    },
    {
     "name": "stdout",
     "output_type": "stream",
     "text": [
      "\n"
     ]
    },
    {
     "data": {
      "text/html": [
       "<div>\n",
       "<style scoped>\n",
       "    .dataframe tbody tr th:only-of-type {\n",
       "        vertical-align: middle;\n",
       "    }\n",
       "\n",
       "    .dataframe tbody tr th {\n",
       "        vertical-align: top;\n",
       "    }\n",
       "\n",
       "    .dataframe thead th {\n",
       "        text-align: right;\n",
       "    }\n",
       "</style>\n",
       "<table border=\"1\" class=\"dataframe\">\n",
       "  <thead>\n",
       "    <tr style=\"text-align: right;\">\n",
       "      <th></th>\n",
       "      <th>C</th>\n",
       "      <th>accuracy</th>\n",
       "    </tr>\n",
       "  </thead>\n",
       "  <tbody>\n",
       "    <tr>\n",
       "      <th>1</th>\n",
       "      <td>0.142866</td>\n",
       "      <td>0.454167</td>\n",
       "    </tr>\n",
       "    <tr>\n",
       "      <th>3</th>\n",
       "      <td>0.428579</td>\n",
       "      <td>0.454167</td>\n",
       "    </tr>\n",
       "    <tr>\n",
       "      <th>2</th>\n",
       "      <td>0.285723</td>\n",
       "      <td>0.452083</td>\n",
       "    </tr>\n",
       "    <tr>\n",
       "      <th>5</th>\n",
       "      <td>0.714292</td>\n",
       "      <td>0.452083</td>\n",
       "    </tr>\n",
       "    <tr>\n",
       "      <th>6</th>\n",
       "      <td>0.857149</td>\n",
       "      <td>0.452083</td>\n",
       "    </tr>\n",
       "    <tr>\n",
       "      <th>7</th>\n",
       "      <td>1.000005</td>\n",
       "      <td>0.452083</td>\n",
       "    </tr>\n",
       "    <tr>\n",
       "      <th>8</th>\n",
       "      <td>1.142861</td>\n",
       "      <td>0.452083</td>\n",
       "    </tr>\n",
       "    <tr>\n",
       "      <th>9</th>\n",
       "      <td>1.285718</td>\n",
       "      <td>0.452083</td>\n",
       "    </tr>\n",
       "    <tr>\n",
       "      <th>10</th>\n",
       "      <td>1.428574</td>\n",
       "      <td>0.452083</td>\n",
       "    </tr>\n",
       "    <tr>\n",
       "      <th>11</th>\n",
       "      <td>1.571431</td>\n",
       "      <td>0.452083</td>\n",
       "    </tr>\n",
       "  </tbody>\n",
       "</table>\n",
       "</div>"
      ],
      "text/plain": [
       "           C  accuracy\n",
       "1   0.142866  0.454167\n",
       "3   0.428579  0.454167\n",
       "2   0.285723  0.452083\n",
       "5   0.714292  0.452083\n",
       "6   0.857149  0.452083\n",
       "7   1.000005  0.452083\n",
       "8   1.142861  0.452083\n",
       "9   1.285718  0.452083\n",
       "10  1.428574  0.452083\n",
       "11  1.571431  0.452083"
      ]
     },
     "execution_count": 7,
     "metadata": {},
     "output_type": "execute_result"
    }
   ],
   "source": [
    "from sklearn.linear_model import LogisticRegression\n",
    "from sklearn.model_selection import ParameterGrid\n",
    "from sklearn.model_selection import train_test_split\n",
    "from tqdm.notebook import tqdm\n",
    "\n",
    "#Extract a portion of the train set for evaluating the best hyperparameters configuration\n",
    "#using directly the validation set would be unfair!\n",
    "#This because we will compare, in order to find the best model, all the models and using here the validation \n",
    "#wound give an unfair advantage to this model\n",
    "\n",
    "X_train_little, X_val_little, y_train_little, y_val_little = train_test_split(x_train, y_train, test_size = 0.3, random_state = 0)\n",
    "\n",
    "Logis_Classifier = LogisticRegression(max_iter=1000, random_state=0, solver = \"saga\", tol = 1e-3)\n",
    "\n",
    "param_grid = ParameterGrid({\n",
    "    'C': np.linspace(1e-5, 2 ,15),\n",
    "})\n",
    "\n",
    "results = []\n",
    "\n",
    "for params in tqdm(param_grid):\n",
    "    Logis_Classifier.set_params(**params)\n",
    "    Logis_Classifier.fit(X_train_little, y_train_little)\n",
    "    y_pred = Logis_Classifier.predict(X_val_little)\n",
    "    params[\"accuracy\"] = accuracy(y_pred, y_val_little)\n",
    "    results.append(params)\n",
    "    \n",
    "results = pd.DataFrame(results)\n",
    "\n",
    "\n",
    "results_ordered = results.sort_values([\"accuracy\",\"C\"],     \n",
    "                              ascending = [False,True]) \n",
    "results_ordered.head(10)"
   ]
  },
  {
   "cell_type": "code",
   "execution_count": 8,
   "metadata": {
    "ExecuteTime": {
     "end_time": "2020-12-30T10:25:12.673556Z",
     "start_time": "2020-12-30T10:25:12.448928Z"
    }
   },
   "outputs": [
    {
     "data": {
      "text/plain": [
       "<matplotlib.lines.Line2D at 0x1e328e9ab88>"
      ]
     },
     "execution_count": 8,
     "metadata": {},
     "output_type": "execute_result"
<<<<<<< HEAD
    },
    {
     "data": {
      "image/png": "iVBORw0KGgoAAAANSUhEUgAAAYgAAAEWCAYAAAB8LwAVAAAAOXRFWHRTb2Z0d2FyZQBNYXRwbG90bGliIHZlcnNpb24zLjMuMSwgaHR0cHM6Ly9tYXRwbG90bGliLm9yZy/d3fzzAAAACXBIWXMAAAsTAAALEwEAmpwYAAAlkUlEQVR4nO3dfZRddX3v8fcnM3l+IJAJGJJYwoMguhDpEB5keVHwNiA0suA2gSJFukyxF660WkWXteuWVm+stvFWIOZS5FYpkYKwAKM8RLm2VWgCptQQ0saUmiEzySQQ8pzMw/f+sfeEPSdnZvbMnD1nzszntdZe55y9f3vv75y1c7757d/+/X6KCMzMzEqNqXYAZmY2PDlBmJlZWU4QZmZWlhOEmZmV5QRhZmZlOUGYmVlZThBmZlaWE4RZDyS9KumApL2S3pD0fUlzK3TcS/soM03SMkm/Ss+/Kf3cMNjzm+XlBGHWuysjYgowC9gG/HXRJ5Q0DlgNvAtYAEwDLgR2AvOLPr9ZFycIsxwi4iDwEHBm1zpJ4yV9Nf1f/jZJyyVNTLc1SHpC0i5Jr0v6B0ljJH0beDvweFoz+EyZ092QlrkqIl6OiM6I2B4Rd0TEqiH4c80AJwizXCRNAhYBz2VWLwXeAZwNnArMBr6YbvsU0ATMBE4APg9ERHwU+BVpzSQivlLmdJcCP4yIvQX8KWa51Vc7ALNh7lFJ7cAUYDvwGwCSBHwcOCsiXk/XfQn4O+BzQBvJbalfi4hNwD/045wzgBcq9heYDZBrEGa9+0hETAfGA7cA/0/S20hqBpOAF9LbSLuAH6brAf4C2AQ8JWmzpNv7cc6dJMnFrKqcIMxyiIiOiPge0AFcBOwADgDviojp6XJM2qBNROyJiE9FxMnAlcAfSrqk63B9nO4Z4DckTS7mrzHLxwnCLAclFgLHAhsiohP4P8BfSTo+LTNbUtctqCsknZreitpNklg60sNtA07u5XTfBrYAD0s6I23cniHp85IuL+YvNDuaE4RZ7x6XtJfkR/7Pgd+JiPXpts+S3EZ6TtJukv/5n55uOy39vBf4GXBXRDybbvsy8IX01tSnS08YEYdIGqpfAZ5Oz/3PQAPwfMX/QrMeyBMGmZlZOa5BmJlZWU4QZmZWlhOEmZmV5QRhZmZlFdqTWtIC4OtAHXBPRPyvHsqdSzKEwaKIeChdNx24B3g3yXPjN0XEz3o7X0NDQ5x00kkVi3/QNm5MXk8/vfdyZmZV8sILL+yIiJnlthWWICTVAXcCHyIZk2aNpMci4uUy5ZYCT5Yc4usk49Fck45uOamvc5500kmsXbu2IvFXxMUXJ6/PPlvNKMzMeiTpP3vaVuQtpvnApojYHBGHgZXAwjLlbgUeJhnnBkjGwgfeD/wNQEQcjohdBcZqZmYlirzFNJukN2iXJuC8bAFJs4GrgA8C52Y2nQy0At+S9B6Sgcs+GRH7Sk8iaQmwBODtb397JeMfvC98odoRmJkNWJE1CJVZV9orbxnw2YjoKFlfD5wD3B0R7wX2AWUHO4uIFRHRGBGNM2eWvY1WPZdemixmZjWoyBpEE5CdnnEOsLWkTCOwMhmuhgbg8nRo5eeApojoGlbgIXpIEMPaunXJ69lnVzMKM7MBKTJBrAFOkzQPeA1YDFyXLRAR87reS7oPeCIiHk0/b5F0ekRsBC4BujVu14Tbbkte3UhtZjWosAQREe2SbiF5OqkOuDci1ku6Od2+vI9D3Arcnz7BtBn4WFGxmpnZ0QrtB5HOn7uqZF3ZxBARN5Z8XkdyC6omHW7v5PChdurGCLV1MGFsXbVDKisieH3fYZreOMDEcXWcOnMKY8aUaz4ys9HGU44W5NYHXuRjr70JwOI//iEzp45nzrETmXPspPT1rfezp08sLIFEBDvTBND0xv4jr6+9cSB9f4ADbW89IzB90ljmn3Qc5588g/NPnsEZb5vqhGE2SjlBFKCto5OnX97W7Z5Y655DtO45xM9/tavsPl0JZPb08kmkpwTSUwJoOpIA9nOwrTN37Lv2t/HUy9t46uVtABwzcSzz53UljON459umOWGYjRJOEAXYvucQnQFfef/vIMEYQWcf0270lUAapow/kjSmThjL1l1pTWDXgX4lgHKmjK9nzrET2bH3EDv2Hu627c0DbTz98jaeThPGtAn1zJ+XJIvzT57BO2dNo24IEsabB9q6Jb7tuw/S6blMzI4488RpXPXeORU9phNEAVrePADAi3PeyVlzjmHjJy6k5c2D3f53/9qut943v3mQjj4ySPLjfYh1W3b1O56p4+uZc9xbtZJsLWXusZOYNrEeSUQEv2zdx3Obd6bL6+zYe6jbsXYfbOeZDdt4ZkOSMKZOqOe8eW/dkhpIwogIdh9oZ0uZGlDX97TnYHu//26z0eSKs2Y5QdSC5jcPAnBO0wbmjz2WsXUXMfe4Scw9bhIw46jy7R2dtOw+2O22UNMbB5J2gl372bqr9wQydUJ92dtSXe+PmTg2V9ySOPX4KZx6/BSuP//XiAg279h3JFk8t3knrXu6J4w9B9t5ZsN2ntmw/Ugs2TaMM0+cxhh11QCOvv3V9XfuOeQEYDbcOEEUoCVNEJ/5yf/lhHUT4I7f7bV8fd2Y9Ee9/HiE7R2dbNtziKbXkx/UPQfbODGtBcw+dmLuBNBfkjhl5hROmTmF3z4vSRj/sWPfkWTx3OadbC+TMFa/sp3VryQJY8r45BLbO8gEMGHsmG6Jb9YxExlb57YQsy4nN0yp+DGdIArQVYMAGFc/+NFM6uvGMHt6cmvovL6LF0YSJ8+cwskzp3DdeW8nInh15/7MLamdbNvdPWHkTQwTx9aVqQGlT3kdO5EZk8eR9rg3syHiBFGAlkyCGF+BBDFcSWJew2TmNUzm2vlvJYznM20YLbuT72LSuLqyt7+62kSOcwIwG3acIAqwNW2khsrUIGpFNmEsThNGy+6DjK+v49hJY50AzGqME0QBsjWIcXXDswf1UJDErGMmVjsMMxug0fPf2yHS3tF5pOH2Ty9Zgpb9VZUjMjMbGCeICtux9/CRR1K3nXwG48/99SpHZGY2ME4QFdacaX9Y0PILeOaZKkZjZjZwboOosGz7ww2rvwPrp3pWOTOrSa5BVNjWCveBMDOrFv+CVVjLKH3E1cxGnkJ/wSQtkLRR0iZJPc4pLelcSR2SrilZXyfp55KeKDLOSqp0L2ozs2op7BdMUh1wJ3AZcCZwraQzeyi3lGRq0lKfBDYUFWMRuveBcIIws9pV5C/YfGBTRGyOiMPASmBhmXK3Ag8D27MrJc0BPgzcU2CMFZetQez5+jfgm9+sYjRmZgNX5FNMs4Etmc9N0H2sOUmzgauADwLnluy/DPgMMLW4ECurszPYtvutBDHjnLNg3OjtSW1mta3IGkS5gXdKJzVYBnw2IjqyKyVdAWyPiBf6PIm0RNJaSWtbW1sHHGwl7Nh3iPa0k9z0SWOZ+OQqePzxqsZkZjZQRdYgmoC5mc9zgK0lZRqBlekgbg3A5ZLaSWoavynpcmACME3SdyLi+tKTRMQKYAVAY2NjVeegbN71Vu1h1jET4WtfSj5ceWWVIjIzG7giE8Qa4DRJ84DXgMXAddkCETGv672k+4AnIuJR4FHgc+n6i4FPl0sOw022/WHWMROqGImZ2eAVliAiol3SLSRPJ9UB90bEekk3p9uXF3Xuasn2gXibE4SZ1bhCh9qIiFXAqpJ1ZRNDRNzYw/pngWcrHFohmjMN1LOmOUGYWW3zg/oVlO0D4RqEmdU6D9ZXQd3bICbCt79dxWjMzAbHCaKCmkvbII5vqGI0ZmaD41tMFdLZGWx789CRz7OOmQDf/W6ymJnVINcgKuT1/Yc53NEJwLQJ9UweXw93351sXLSoipGZmQ2MaxAV0lLa/mBmVuOcICqk2U8wmdkI4wRRIdlOcu5FbWYjgRNEhWx1DcLMRhg3UldItg3ixK42iIceqlI0ZmaD5wRRIUf1gQBocD8IM6tdvsVUIS3lRnK9775kMTOrQU4QFRAR5Z9icoIwsxrmBFEBu/a3cag96SQ3ZXw9UyeMrXJEZmaD5wRRAe4DYWYjkRNEBTS7D4SZjUBOEBXgqUbNbCQqNEFIWiBpo6RNkm7vpdy5kjokXZN+nivpx5I2SFov6ZNFxjlY3ScKyozDtGpVspiZ1aDC+kFIqgPuBD4ENAFrJD0WES+XKbeUZO7qLu3ApyLiRUlTgRckPV2673DRYw1i0qQqRGNmVhlF1iDmA5siYnNEHAZWAgvLlLsVeBjY3rUiIpoj4sX0/R5gAzC7wFgHpWV3mU5yAHfdlSxmZjWoyAQxG9iS+dxEyY+8pNnAVcDyng4i6STgvcDzlQ+xMnqsQTz4YLKYmdWgIhOEyqyLks/LgM9GREfZA0hTSGoXt0XE7h7KLJG0VtLa1tbWwcQ7IBFB865MgpjmuSDMbGQociymJmBu5vMcYGtJmUZgpSSABuBySe0R8aiksSTJ4f6I+F5PJ4mIFcAKgMbGxtIEVLjdB9o50Jbkt0nj6pg20cNbmdnIUOSv2RrgNEnzgNeAxcB12QIRMa/rvaT7gCfS5CDgb4ANEfGXBcY4aM0l7Q9psjMzq3mF3WKKiHbgFpKnkzYAD0bEekk3S7q5j93fB3wU+KCkdelyeVGxDob7QJjZSFXo/ZCIWAWsKllXtkE6Im7MvP9HyrdhDDvd+kCUtj88++zQBmNmVkHuST1IrkGY2UjlBDFIzbt66AMB8NWvJouZWQ1yghiklt2ZqUanlySIJ55IFjOzGuQEMUjNvbVBmJnVMCeIQSo71aiZ2QjgBDEIew62sfdQOwDj68cwfZJnkjOzkcPdfgehtPZwVCe5ib7lZGa1ywliEPqcavQHPxjCaMzMKsu3mAah+1Sjri2Y2cjiBDEIfXaSu+OOZDEzq0FOEIPQ5xNMq1cni5lZDXKCGITmnuaiNjMbAZwgBsF9IMxsJHOCGIRsI3XZp5jMzGqYH3MdoH2H2tl9MOkkN65uDMdNGnd0oRkzhjgqM7PKcYIYoNI+EGPGlJm+4uGHhzAiM7PK8i2mAWrpq5OcmVmNKzRBSFogaaOkTZJu76XcuZI6JF3T332rpXsnuR4SxOc+lyxmZjWosFtMkuqAO4EPAU3AGkmPRcTLZcotJZm7ul/7VlOuGsTPfjZE0ZiZVV6RNYj5wKaI2BwRh4GVwMIy5W4FHga2D2DfqmnOTBQ0a5pvMZnZyFNkgpgNbMl8bkrXHSFpNnAVsLy/+1ZbizvJmdkIV2SCKPNYD1HyeRnw2YjoGMC+SUFpiaS1kta2trb2P8oB2rorRxuEmVkNK/Ix1yZgbubzHGBrSZlGYGU6j0IDcLmk9pz7AhARK4AVAI2NjWWTSBGyc1HPKp2LusucOUMUjZlZ5RWZINYAp0maB7wGLAauyxaIiHld7yXdBzwREY9Kqu9r32o6cLiDXfvbAKgfIxomjy9f8DvfGcKozMwqq7AEERHtkm4heTqpDrg3ItZLujndXtru0Oe+RcXaX9nawwnTeugkZ2ZW4wrtSR0Rq4BVJevKJoaIuLGvfYeLXH0gAG67LXldtqzQeMzMiuChNgYgdy/qdeuKD8bMrCAeamMA+pxJzsxsBHCCGADPRW1mo0GfCULSFZKcSDI8UZCZjQZ5fvgXA/8u6SuS3ll0QLWgdKjvHr3jHcliZlaD+mykjojrJU0DrgW+JSmAbwEPRMSeogMcjrrXIHq5xbRixRBEY2ZWjFy3jiJiN8mAeiuBWSTjJ70o6dYCYxuWDrZ1sHPfYQDqxoiZU3voJGdmVuPytEFcKekR4EfAWGB+RFwGvAf4dMHxDTvbMp3kjp86nrreOsktWZIsZmY1KE8/iP8G/FVE/CS7MiL2S7qpmLCGr9ztDwD/9m8FR2NmVpw8CeJPgOauD5ImAidExKsRsbqwyIapbPvDiX7E1cxGsDxtEH8PdGY+d6TrRqV+1SDMzGpYngRRn87qBkD6flxxIQ1vLXnHYTIzq3F5bjG1SvrNiHgMQNJCYEexYQ1f/apBnH12scGYmRUoT4K4Gbhf0jdIZnrbAtxQaFTDWLeJgvpKEB7F1cxqWJ6Ocr8Ezpc0BdBo7RzXZesuz0VtZqNDruG+JX0YeBcwIZ0elIj40wLjGpYOt3eyY+8hAMYo6QfRq+uvT149s5yZ1aA+E4Sk5cAk4APAPcA1wD8XHNewlO0kN3PqeMbW9dHG39RUcERmZsXJ8xTThRFxA/BGRPxP4AJgbp6DS1ogaaOkTZJuL7N9oaSXJK2TtFbSRZltfyBpvaRfSHpAUtUfGcq2P/j2kpmNdHkSRNev4n5JJwJtwLy+dpJUB9wJXAacCVwr6cySYquB90TE2cBNJDUUJM0G/gfQGBHvJpmXenGOWAvVbaKgaVXPV2ZmhcqTIB6XNB34C+BF4FXggRz7zQc2RcTmtO/ESmBhtkBE7I2ISD9OBiKzuR6YKKme5BbX1hznLFS2D4Q7yZnZSNdrG0Q6UdDqiNgFPCzpCWBCRLyZ49izSR6J7dIEnFfmHFcBXwaOBz4MEBGvSfoq8CvgAPBURDyV45yFyj7BlKuT3AUXFBiNmVmxeq1BREQn8LXM50M5kwMkfSaOOmSZczwSEWcAHwHuAJB0LEltYx5wIjBZ0vVlTyItSdsv1ra2tuYMbWC6zQMxPUcbxJe/nCxmZjUozy2mpyRdra7nW/Nrontj9hx6uU2UjhZ7iqQG4FLgPyKiNSLagO8BF/aw34qIaIyIxpkzZ/YzxP5p7k8nOTOzGpenH8QfkrQPtEs6SFIziIiY1sd+a4DTJM0DXiNpZL4uW0DSqcAvIyIknUMyxtNOkltL50uaRHKL6RJgbf4/qxjd2iDyNFJffXXy+vDDBUVkZlacPD2ppw7kwBHRLukW4EmSp5DujYj1km5Oty8HrgZukNRGkggWpY3Wz0t6iKRRvB34OVDV+TvbOjrZvufQkc8n5EkQO3cWGJGZWbHydJR7f7n1pRMI9VBmFbCqZN3yzPulwNIe9v0TkrkohoXWPYfoet6qYcp4xtXnmq3VzKxm5bnF9EeZ9xNIHl99AfhgIRENU80e5tvMRpk8t5iuzH6WNBf4SmERDVOeKMjMRptcg/WVaALeXelAhrvuU43mTBCXXFJQNGZmxcvTBvHXvNV/YQxwNvAvBcY0LHWvQeQch+mP/7igaMzMipenBpF9vLQdeCAi/qmgeIatbp3kfIvJzEaBPAniIeBgRHRAMgifpEkRsb/Y0IaX5oGMw3TZZcnrD35QQERmZsXK86zmaiB7T2Ui8Ewx4QxfA6pBHDiQLGZmNShPgpgQEXu7PqTvJxUX0vDT0Rls628nOTOzGpcnQexLh8EAQNKvk/R6HjVa9xyiozNpp58xeRwTxtZVOSIzs+LlaYO4Dfh7SV0D7c0CFhUW0TA0oPYHM7Mal6ej3BpJZwCnkwzU90o6wuqoMeAnmK64ooBozMyGRp5+EP8duD8ifpF+PlbStRFxV+HRDRMD7kX96U8XEI2Z2dDI0wbx8XRGOQAi4g3g44VFNAy1dJsHImcnOTOzGpcnQYzJThYkqY5k3oZRY+uufs4D0eXii5PFzKwG5WmkfhJ4UNJykiE3bgZGVc8v96I2s9EoT4L4LLAE+ARJI/XPSZ5kGjWa+zsXtZnZCNDnLaaI6ASeAzYDjSTTf24oOK5ho7Mz2JZpg+jXLSYzsxrWY4KQ9A5JX5S0AfgGsAUgIj4QEd/Ic3BJCyRtlLRJ0u1lti+U9JKkdZLWSroos226pIckvSJpg6QL+v/nDd6OfYdoTzvJTZ80lonj3EnOzEaH3m4xvQL8A3BlRGwCkPQHeQ+cNmbfCXyIZA6JNZIei4iXM8VWA49FREg6C3gQOCPd9nXghxFxjaRxVGl4j2z7Q79rD7/1WxWOxsxs6PSWIK4GFgM/lvRDYCVJG0Re84FNEbEZQNJKYCFwJEFkx3gCJpPOOyFpGvB+4Ma03GHgcD/OXTFbdw2igfr3f7/C0ZiZDZ0ebzFFxCMRsYjkf/TPAn8AnCDpbkn/NcexZ5Pelko1peu6kXSVpFeA7wM3patPBlqBb0n6uaR7JE3O8wdVWku3YTb62UC9f3+ymJnVoDyN1Psi4v6IuAKYA6wDjmpPKKNcbSOOWpEkojOAjwB3pKvrgXOAuyPivcC+ns4paUnafrG2tbU1R1j905xpoM491WiXyy9PFjOzGpSno9wREfF6RHwzIj6Yo3gTMDfzeQ6wtYeyRMRPgFMkNaT7NkXE8+nmh0gSRrn9VkREY0Q0zpw5M9ff0R8tAx1mw8ysxvUrQfTTGuA0SfPSRubFwGPZApJO7eqlnQ4pPg7YGREtwBZJp6dFLyHTdjGUuvWB8DAbZjaK5OkoNyAR0S7pFpKe2HXAvRGxXtLN6fblJA3hN0hqI5ljYlFEdN2GuhW4P00um4GPFRVrb1yDMLPRqrAEARARq4BVJeuWZ94vBZb2sO86ko55VRMRThBmNmoVmiBq3c59hznc0QnA1An1TBnfz6/rxhsrH5SZ2RBxguhFtvZw4kDaH5wgzKyGFdlIXfMGPFFQlx07ksXMrAa5BtGLbCe5AQ3zfc01yeuzz1YmIDOzIeQaRC8GXYMwM6thThC98ERBZjaaOUH0YutgxmEyM6txThC9cA3CzEYzN1L3ICJKhtkYQIL4xCcqGJGZ2dBygujBrv1tHGpPOslNGV/P1Alj+3+QRYsqHJWZ2dDxLaYeVOQJpi1bksXMrAa5BtGDlt2D7AMB8NGPJq/uB2FmNcg1iB5kpxrt91zUZmYjgBNED/wEk5mNdk4QPej2BNN094Ews9HHCaIH2TYID7NhZqORG6l7MOg+EACf+lSFojEzG3qF1iAkLZC0UdImSbeX2b5Q0kuS1klaK+miku11kn4u6Yki4yxVOpPcrGkDvMV05ZXJYmZWgwpLEJLqgDuBy4AzgWslnVlSbDXwnog4G7gJuKdk+yeBDUXF2JPdB9vZf7gDgIlj65g2cYAVrY0bk8XMrAYVWYOYD2yKiM0RcRhYCSzMFoiIvRER6cfJQNd7JM0BPszRSaNwzSXzQEga2IF+7/eSxcysBhWZIGYD2W7ETem6biRdJekV4PsktYguy4DPAJ0FxliW54EwMys2QZT7b3cctSLikYg4A/gIcAeApCuA7RHxQp8nkZak7RdrW1tbBxlyonsfCD/iamajU5EJogmYm/k8B9jaU+GI+AlwiqQG4H3Ab0p6leTW1AclfaeH/VZERGNENM6cObMigVfkCSYzsxpXZIJYA5wmaZ6kccBi4LFsAUmnKr3BL+kcYBywMyI+FxFzIuKkdL8fRcT1BcbaTcub7gNhZlZYP4iIaJd0C/AkUAfcGxHrJd2cbl8OXA3cIKkNOAAsyjRaV03FahBf+EIFojEzq45CO8pFxCpgVcm65Zn3S4GlfRzjWeDZAsLrUcUaqS+9tALRmJlVh4faKKNijdTr1iWLmVkN8lAbJfYcbGPvoXYAxteP4dhJA5hJrstttyWvng/CzGqQaxAlSof5HnAnOTOzGucEUcKd5MzMEk4QJdxJzsws4QRRYqv7QJiZAW6kPkpFpxr90pcGGY2ZWfU4QZRoruQtpgsvHGQ0ZmbV41tMJSpag/jpT5PFzKwGuQZRormSbRCf/3zy6n4QZlaDXIPI2Heond0Hk05y4+rGcNykcVWOyMysepwgMlp2v3V76YRjxjNmjDvJmdno5QSR0bwr0/4wzX0gzGx0c4LIqGj7g5lZjXMjdUa3J5imVyBBLFs2+GOYmVWJE0RG8+7sLaYKJIizzx78MczMqsS3mDJaug3UV4E2iGeeSRYzsxpUaIKQtEDSRkmbJN1eZvtCSS9JWidpraSL0vVzJf1Y0gZJ6yV9ssg4u1RsqtEuf/ZnyWJmVoMKu8UkqQ64E/gQ0ASskfRYRLycKbYaeCwiQtJZwIPAGUA78KmIeFHSVOAFSU+X7Ftx2UbqiiQIM7MaVmQNYj6wKSI2R8RhYCWwMFsgIvZGRKQfJwORrm+OiBfT93uADcDsAmPlwOEOdu1vA6B+jJgxZXyRpzMzG/aKTBCzgS2Zz02U+ZGXdJWkV4DvAzeV2X4S8F7g+WLCTHTrJDdtAnXuJGdmo1yRCaLcL2wctSLikYg4A/gIcEe3A0hTgIeB2yJid9mTSEvS9ou1ra2tAw7Wt5fMzLor8jHXJmBu5vMcYGtPhSPiJ5JOkdQQETskjSVJDvdHxPd62W8FsAKgsbHxqASUV0sRU41+85uVOY6ZWRUUmSDWAKdJmge8BiwGrssWkHQq8Mu0kfocYBywU5KAvwE2RMRfFhjjERV/ggng9NMrcxwzsyooLEFERLukW4AngTrg3ohYL+nmdPty4GrgBkltwAFgUZosLgI+CvyrpHXpIT8fEauKirf7MBsVGofp8ceT1yuvrMzxzMyGUKE9qdMf9FUl65Zn3i8FlpbZ7x8p34ZRmIpOFNTla19LXp0gzKwGuSd1qrmINggzsxrmBJHK1iBOrNQtJjOzGuYEARxs62DnvsMA1I0RM6e6k5yZmRMEsH33oSPvj5863p3kzMzwcN9AgRMFffvblTuWmdkQc4KgoD4QAHPn9l3GzGyY8i0mSp5gquRc1N/9brKYmdUg1yCAlswtphMrMdVol7vvTl4XLarcMc3MhohrELgPhJlZOU4QdB/q2yO5mpklnCAorUG4k5yZGThBcLi9kx17k34QUtIPwszM3EjNtt0H6Zr0dOaU8Yytq2DOfOihyh3LzGyIjfoE0a39YXqFby81NFT2eGZmQ2jU32Lq1kluWoUbqO+7L1nMzGrQqE8QLUUNswFOEGZW00Z9gihsmA0zsxpXaIKQtEDSRkmbJN1eZvtCSS9JWidpbTrVaK59K6V5lzvJmZmVU1iCkFQH3AlcBpwJXCvpzJJiq4H3RMTZwE3APf3YtyKau3WScx8IM7MuRT7FNB/YFBGbASStBBYCL3cViIi9mfKTgci7b6XcvuAM/nPnPprfPMjJMydX+vBmZjWryAQxG9iS+dwEnFdaSNJVwJeB44EP92ffSrjglBlccMqMIg4Nq1YVc1wzsyFQZBtEuWnZ4qgVEY9ExBnAR4A7+rMvgKQlafvF2tbW1oHGWoxJk5LFzKwGFZkgmoDsjDlzgK09FY6InwCnSGroz74RsSIiGiOicebMmYOPupLuuitZzMxqUJEJYg1wmqR5ksYBi4HHsgUknSpJ6ftzgHHAzjz71oQHH0wWM7MaVFgbRES0S7oFeBKoA+6NiPWSbk63LweuBm6Q1AYcABZFRABl9y0qVjMzO1qhYzFFxCpgVcm65Zn3S4Glefc1M7OhM+p7UpuZWXlOEGZmVpYiyj49WpMktQL/OcDdG4AdFQynUhxX/ziu/nFc/TMS4/q1iCj7COiIShCDIWltRDRWO45Sjqt/HFf/OK7+GW1x+RaTmZmV5QRhZmZlOUG8ZUW1A+iB4+ofx9U/jqt/RlVcboMwM7OyXIMwM7OynCDMzKysEZ8gckx7Kkn/O93+UjpoYK59C47rt9N4XpL0U0nvyWx7VdK/dk3VOsRxXSzpzfTc6yR9Me++Bcf1R5mYfiGpQ9Jx6bYiv697JW2X9Isetlfr+uorrmpdX33FVa3rq6+4qnV9zZX0Y0kbJK2X9MkyZYq7xiJixC4kA/39EjiZZKTYfwHOLClzOfADkjkozgeez7tvwXFdCBybvr+sK67086tAQ5W+r4uBJwayb5FxlZS/EvhR0d9Xeuz3A+cAv+hh+5BfXznjGvLrK2dcQ3595YmritfXLOCc9P1U4N+G8jdspNcgjkxdGhGHga6pS7MWAn8bieeA6ZJm5dy3sLgi4qcR8Ub68TmSOTGKNpi/uarfV4lrgQcqdO5eRTKPyeu9FKnG9dVnXFW6vvJ8Xz2p6vdVYiivr+aIeDF9vwfYQDLjZlZh19hITxDlpi4t/XJ7KpNn3yLjyvpdkv8hdAngKUkvSFpSoZj6E9cFkv5F0g8kvauf+xYZF5ImAQuAhzOri/q+8qjG9dVfQ3V95TXU11du1by+JJ0EvBd4vmRTYddYocN9DwN5pi7tqUzuaU8HoD9Tqn6A5B/wRZnV74uIrZKOB56W9Er6P6ChiOtFkrFb9kq6HHgUOC3nvkXG1eVK4J8iIvu/waK+rzyqcX3lNsTXVx7VuL76oyrXl6QpJEnptojYXbq5zC4VucZGeg0iz9SlPZXp15SpBcSFpLOAe4CFEbGza31EbE1ftwOPkFQlhySuiNgdEXvT96uAsernNLFFxJWxmJLqf4HfVx7VuL5yqcL11acqXV/9MeTXl6SxJMnh/oj4XpkixV1jRTSsDJeFpIa0GZjHW4007yop82G6N/D8c959C47r7cAm4MKS9ZOBqZn3PwUWDGFcb+OtDpbzgV+l311Vv6+03DEk95EnD8X3lTnHSfTc6Drk11fOuIb8+soZ15BfX3niqtb1lf7tfwss66VMYdfYiL7FFPmmPV1F8hTAJmA/8LHe9h3CuL4IzADuUjJtd3skozWeADySrqsH/i4ifjiEcV0DfEJSO8k0sYsjuRqr/X0BXAU8FRH7MrsX9n0BSHqA5MmbBklNwJ8AYzNxDfn1lTOuIb++csY15NdXzrigCtcX8D7go8C/SlqXrvs8SYIv/BrzUBtmZlbWSG+DMDOzAXKCMDOzspwgzMysLCcIMzMrywnCzMzKcoIwK5Ckt0laKemXkl6WtErSO6odl1keThBmBVHycPwjwLMRcUpEnEnyDPsJ1Y3MLJ8R3VHOrMo+ALRlOloREeuqF45Z/7gGYVacdwMvVDsIs4FygjAzs7KcIMyKsx749WoHYTZQThBmxfkRMF7Sx7tWSDpX0n+pYkxmuXmwPrMCSToRWEZSkzhIMn/xbRHx71UMyywXJwgzMyvLt5jMzKwsJwgzMyvLCcLMzMpygjAzs7KcIMzMrCwnCDMzK8sJwszMyvr/aRxqmLYvEmEAAAAASUVORK5CYII=\n",
      "text/plain": [
       "<Figure size 432x288 with 1 Axes>"
      ]
     },
     "metadata": {
      "needs_background": "light"
     },
     "output_type": "display_data"
=======
>>>>>>> 102a1c6bdb58dbdafd841588f4193c298520840e
    }
   ],
   "source": [
    "plt.plot(\"C\", \"accuracy\", data = results, lw = 3)\n",
    "plt.title(\"Best C\")\n",
    "plt.xlabel(\"C\")\n",
    "plt.ylabel(\"Accuracy\")\n",
    "plt.axvline(x=param_grid[results_ordered.index[0]][\"C\"], color='r', linestyle='--')"
   ]
  },
  {
   "cell_type": "code",
   "execution_count": 9,
   "metadata": {
    "ExecuteTime": {
     "end_time": "2020-12-30T10:25:34.212345Z",
     "start_time": "2020-12-30T10:25:12.674553Z"
    }
   },
   "outputs": [
    {
     "data": {
      "text/plain": [
       "0.6238532110091743"
      ]
     },
     "execution_count": 9,
     "metadata": {},
     "output_type": "execute_result"
    }
   ],
   "source": [
    "Logis_Classifier = LogisticRegression(max_iter=1000, random_state=0, solver = \"saga\", tol = 1e-3)\n",
    "best_params = param_grid[results_ordered.index[0]]\n",
    "Logis_Classifier.set_params(**best_params)\n",
    "Logis_Classifier.fit(x_train, y_train)\n",
    "y_pred = Logis_Classifier.predict(x_validation)\n",
    "accuracy(y_pred, y_validation)"
   ]
  },
  {
   "cell_type": "markdown",
   "metadata": {},
   "source": [
    "### Linear Classifier"
   ]
  },
  {
   "cell_type": "code",
   "execution_count": 10,
   "metadata": {
    "ExecuteTime": {
     "end_time": "2020-12-30T10:25:41.374889Z",
     "start_time": "2020-12-30T10:25:34.214340Z"
    }
   },
   "outputs": [
    {
     "data": {
      "application/vnd.jupyter.widget-view+json": {
       "model_id": "5c00d24fa8604a5f8dd0d0ef34ed33ac",
       "version_major": 2,
       "version_minor": 0
      },
      "text/plain": [
       "HBox(children=(FloatProgress(value=0.0, max=20.0), HTML(value='')))"
      ]
     },
     "metadata": {},
     "output_type": "display_data"
    },
    {
     "name": "stdout",
     "output_type": "stream",
     "text": [
      "\n"
     ]
    },
    {
     "data": {
      "text/html": [
       "<div>\n",
       "<style scoped>\n",
       "    .dataframe tbody tr th:only-of-type {\n",
       "        vertical-align: middle;\n",
       "    }\n",
       "\n",
       "    .dataframe tbody tr th {\n",
       "        vertical-align: top;\n",
       "    }\n",
       "\n",
       "    .dataframe thead th {\n",
       "        text-align: right;\n",
       "    }\n",
       "</style>\n",
       "<table border=\"1\" class=\"dataframe\">\n",
       "  <thead>\n",
       "    <tr style=\"text-align: right;\">\n",
       "      <th></th>\n",
       "      <th>alpha</th>\n",
       "      <th>accuracy</th>\n",
       "    </tr>\n",
       "  </thead>\n",
       "  <tbody>\n",
       "    <tr>\n",
       "      <th>4</th>\n",
       "      <td>0.631587</td>\n",
       "      <td>0.458333</td>\n",
       "    </tr>\n",
       "    <tr>\n",
       "      <th>3</th>\n",
       "      <td>0.473693</td>\n",
       "      <td>0.456250</td>\n",
       "    </tr>\n",
       "    <tr>\n",
       "      <th>6</th>\n",
       "      <td>0.947375</td>\n",
       "      <td>0.445833</td>\n",
       "    </tr>\n",
       "    <tr>\n",
       "      <th>2</th>\n",
       "      <td>0.315798</td>\n",
       "      <td>0.443750</td>\n",
       "    </tr>\n",
       "    <tr>\n",
       "      <th>5</th>\n",
       "      <td>0.789481</td>\n",
       "      <td>0.443750</td>\n",
       "    </tr>\n",
       "    <tr>\n",
       "      <th>1</th>\n",
       "      <td>0.157904</td>\n",
       "      <td>0.441667</td>\n",
       "    </tr>\n",
       "    <tr>\n",
       "      <th>14</th>\n",
       "      <td>2.210529</td>\n",
       "      <td>0.439583</td>\n",
       "    </tr>\n",
       "    <tr>\n",
       "      <th>18</th>\n",
       "      <td>2.842106</td>\n",
       "      <td>0.437500</td>\n",
       "    </tr>\n",
       "    <tr>\n",
       "      <th>13</th>\n",
       "      <td>2.052635</td>\n",
       "      <td>0.435417</td>\n",
       "    </tr>\n",
       "    <tr>\n",
       "      <th>17</th>\n",
       "      <td>2.684212</td>\n",
       "      <td>0.435417</td>\n",
       "    </tr>\n",
       "  </tbody>\n",
       "</table>\n",
       "</div>"
      ],
      "text/plain": [
       "       alpha  accuracy\n",
       "4   0.631587  0.458333\n",
       "3   0.473693  0.456250\n",
       "6   0.947375  0.445833\n",
       "2   0.315798  0.443750\n",
       "5   0.789481  0.443750\n",
       "1   0.157904  0.441667\n",
       "14  2.210529  0.439583\n",
       "18  2.842106  0.437500\n",
       "13  2.052635  0.435417\n",
       "17  2.684212  0.435417"
      ]
     },
     "execution_count": 10,
     "metadata": {},
     "output_type": "execute_result"
    }
   ],
   "source": [
    "from sklearn.linear_model import SGDClassifier\n",
    "\n",
    "Linear_Classifier = SGDClassifier(random_state=0)\n",
    "\n",
    "param_grid = ParameterGrid({\n",
    "    'alpha': np.linspace(1e-5, 3 ,20),\n",
    "})\n",
    "\n",
    "results = []\n",
    "\n",
    "for params in tqdm(param_grid):\n",
    "    Linear_Classifier.set_params(**params)\n",
    "    Linear_Classifier.fit(X_train_little, y_train_little)\n",
    "    y_pred = Linear_Classifier.predict(X_val_little)\n",
    "    params[\"accuracy\"] = accuracy(y_pred, y_val_little)\n",
    "    results.append(params)\n",
    "    \n",
    "results = pd.DataFrame(results)\n",
    "\n",
    "\n",
    "results_ordered = results.sort_values([\"accuracy\",\"alpha\"],     \n",
    "                              ascending = [False,True]) \n",
    "results_ordered.head(10)"
   ]
  },
  {
   "cell_type": "code",
   "execution_count": 11,
   "metadata": {
    "ExecuteTime": {
     "end_time": "2020-12-30T10:25:41.547391Z",
     "start_time": "2020-12-30T10:25:41.377846Z"
    }
   },
   "outputs": [
    {
     "data": {
      "text/plain": [
       "<matplotlib.lines.Line2D at 0x1e32964edc8>"
      ]
     },
     "execution_count": 11,
     "metadata": {},
     "output_type": "execute_result"
    },
    {
     "data": {
      "image/png": "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\n",
      "text/plain": [
       "<Figure size 432x288 with 1 Axes>"
      ]
     },
     "metadata": {
      "needs_background": "light"
     },
     "output_type": "display_data"
    }
   ],
   "source": [
    "plt.plot(\"alpha\", \"accuracy\", data = results, lw = 3)\n",
    "plt.title(\"Best alpha\")\n",
    "plt.xlabel(\"alpha\")\n",
    "plt.ylabel(\"Accuracy\")\n",
    "plt.axvline(x=param_grid[results_ordered.index[0]][\"alpha\"], color='r', linestyle='--')"
   ]
  },
  {
   "cell_type": "code",
   "execution_count": 12,
   "metadata": {
    "ExecuteTime": {
     "end_time": "2020-12-30T10:25:42.115568Z",
     "start_time": "2020-12-30T10:25:41.549387Z"
    }
   },
   "outputs": [
    {
     "data": {
      "text/plain": [
       "0.5504587155963303"
      ]
     },
     "execution_count": 12,
     "metadata": {},
     "output_type": "execute_result"
    }
   ],
   "source": [
    "Linear_Classifier.set_params(**param_grid[results_ordered.index[0]])\n",
    "Linear_Classifier.fit(x_train, y_train)\n",
    "y_pred = Linear_Classifier.predict(x_validation)\n",
    "accuracy(y_pred, y_validation)"
   ]
  },
  {
   "cell_type": "markdown",
   "metadata": {},
   "source": [
    "# KNN"
   ]
  },
  {
   "cell_type": "code",
   "execution_count": 13,
   "metadata": {
    "ExecuteTime": {
     "end_time": "2020-12-30T10:26:16.798420Z",
     "start_time": "2020-12-30T10:25:42.117563Z"
    },
    "scrolled": true
   },
   "outputs": [
    {
     "data": {
      "application/vnd.jupyter.widget-view+json": {
       "model_id": "a0cadcefd3754da38563216f5347ad29",
       "version_major": 2,
       "version_minor": 0
      },
      "text/plain": [
       "HBox(children=(FloatProgress(value=0.0, max=25.0), HTML(value='')))"
      ]
     },
     "metadata": {},
     "output_type": "display_data"
    },
    {
     "name": "stdout",
     "output_type": "stream",
     "text": [
      "\n"
     ]
    },
    {
     "data": {
      "text/html": [
       "<div>\n",
       "<style scoped>\n",
       "    .dataframe tbody tr th:only-of-type {\n",
       "        vertical-align: middle;\n",
       "    }\n",
       "\n",
       "    .dataframe tbody tr th {\n",
       "        vertical-align: top;\n",
       "    }\n",
       "\n",
       "    .dataframe thead th {\n",
       "        text-align: right;\n",
       "    }\n",
       "</style>\n",
       "<table border=\"1\" class=\"dataframe\">\n",
       "  <thead>\n",
       "    <tr style=\"text-align: right;\">\n",
       "      <th></th>\n",
       "      <th>n_neighbors</th>\n",
       "      <th>accuracy</th>\n",
       "    </tr>\n",
       "  </thead>\n",
       "  <tbody>\n",
       "    <tr>\n",
       "      <th>14</th>\n",
       "      <td>15</td>\n",
       "      <td>0.445833</td>\n",
       "    </tr>\n",
       "    <tr>\n",
       "      <th>17</th>\n",
       "      <td>18</td>\n",
       "      <td>0.439583</td>\n",
       "    </tr>\n",
       "    <tr>\n",
       "      <th>12</th>\n",
       "      <td>13</td>\n",
       "      <td>0.439583</td>\n",
       "    </tr>\n",
       "    <tr>\n",
       "      <th>16</th>\n",
       "      <td>17</td>\n",
       "      <td>0.437500</td>\n",
       "    </tr>\n",
       "    <tr>\n",
       "      <th>11</th>\n",
       "      <td>12</td>\n",
       "      <td>0.437500</td>\n",
       "    </tr>\n",
       "    <tr>\n",
       "      <th>18</th>\n",
       "      <td>19</td>\n",
       "      <td>0.435417</td>\n",
       "    </tr>\n",
       "    <tr>\n",
       "      <th>9</th>\n",
       "      <td>10</td>\n",
       "      <td>0.433333</td>\n",
       "    </tr>\n",
       "    <tr>\n",
       "      <th>15</th>\n",
       "      <td>16</td>\n",
       "      <td>0.431250</td>\n",
       "    </tr>\n",
       "    <tr>\n",
       "      <th>19</th>\n",
       "      <td>20</td>\n",
       "      <td>0.429167</td>\n",
       "    </tr>\n",
       "    <tr>\n",
       "      <th>20</th>\n",
       "      <td>21</td>\n",
       "      <td>0.427083</td>\n",
       "    </tr>\n",
       "  </tbody>\n",
       "</table>\n",
       "</div>"
      ],
      "text/plain": [
       "    n_neighbors  accuracy\n",
       "14           15  0.445833\n",
       "17           18  0.439583\n",
       "12           13  0.439583\n",
       "16           17  0.437500\n",
       "11           12  0.437500\n",
       "18           19  0.435417\n",
       "9            10  0.433333\n",
       "15           16  0.431250\n",
       "19           20  0.429167\n",
       "20           21  0.427083"
      ]
     },
     "execution_count": 13,
     "metadata": {},
     "output_type": "execute_result"
    }
   ],
   "source": [
    "from sklearn.neighbors import KNeighborsClassifier\n",
    "\n",
    "\n",
    "KNN = KNeighborsClassifier()\n",
    "\n",
    "param_grid = ParameterGrid({\n",
    "    'n_neighbors': np.linspace(1,25,25, dtype = \"int\"),\n",
    "})\n",
    "\n",
    "results = []\n",
    "\n",
    "for params in tqdm(param_grid):\n",
    "    KNN.set_params(**params)\n",
    "    KNN.fit(X_train_little, y_train_little)\n",
    "    y_pred = KNN.predict(X_val_little)\n",
    "    params[\"accuracy\"] = accuracy(y_pred, y_val_little)\n",
    "    results.append(params)\n",
    "    \n",
    "results = pd.DataFrame(results)\n",
    "\n",
    "\n",
    "results_ordered = results.sort_values([\"accuracy\",\"n_neighbors\"],     \n",
    "                              ascending = [False,False]) \n",
    "results_ordered.head(10)"
   ]
  },
  {
   "cell_type": "code",
   "execution_count": 14,
   "metadata": {
    "ExecuteTime": {
     "end_time": "2020-12-30T10:26:16.953006Z",
     "start_time": "2020-12-30T10:26:16.801414Z"
    }
   },
   "outputs": [
    {
     "data": {
      "text/plain": [
       "<matplotlib.lines.Line2D at 0x1e3297f2388>"
      ]
     },
     "execution_count": 14,
     "metadata": {},
     "output_type": "execute_result"
    },
    {
     "data": {
      "image/png": "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\n",
      "text/plain": [
       "<Figure size 432x288 with 1 Axes>"
      ]
     },
     "metadata": {
      "needs_background": "light"
     },
     "output_type": "display_data"
    }
   ],
   "source": [
    "plt.plot(\"n_neighbors\", \"accuracy\", data = results, lw = 3)\n",
    "plt.title(\"Best K\")\n",
    "plt.xlabel(\"K\")\n",
    "plt.ylabel(\"Accuracy\")\n",
    "plt.axvline(x=param_grid[results_ordered.index[0]][\"n_neighbors\"], color='r', linestyle='--')"
   ]
  },
  {
   "cell_type": "code",
   "execution_count": 15,
   "metadata": {
    "ExecuteTime": {
     "end_time": "2020-12-30T10:26:17.780261Z",
     "start_time": "2020-12-30T10:26:16.955002Z"
    }
   },
   "outputs": [
    {
     "data": {
      "text/plain": [
       "0.6788990825688074"
      ]
     },
     "execution_count": 15,
     "metadata": {},
     "output_type": "execute_result"
    }
   ],
   "source": [
    "KNN.set_params(**param_grid[results_ordered.index[0]])\n",
    "KNN.fit(x_train, y_train)\n",
    "y_pred = KNN.predict(x_validation)\n",
    "accuracy(y_pred, y_validation)"
   ]
  },
  {
   "cell_type": "markdown",
   "metadata": {},
   "source": [
    "# Trees"
   ]
  },
  {
   "cell_type": "code",
   "execution_count": 16,
   "metadata": {
    "ExecuteTime": {
     "end_time": "2020-12-30T10:31:13.271514Z",
     "start_time": "2020-12-30T10:26:17.782257Z"
    }
   },
   "outputs": [
    {
     "data": {
      "application/vnd.jupyter.widget-view+json": {
       "model_id": "243b87d3f22f4ca3813a4f15a95a7382",
       "version_major": 2,
       "version_minor": 0
      },
      "text/plain": [
       "HBox(children=(FloatProgress(value=0.0, max=112.0), HTML(value='')))"
      ]
     },
     "metadata": {},
     "output_type": "display_data"
    },
    {
     "name": "stdout",
     "output_type": "stream",
     "text": [
      "\n"
     ]
    },
    {
     "data": {
      "text/html": [
       "<div>\n",
       "<style scoped>\n",
       "    .dataframe tbody tr th:only-of-type {\n",
       "        vertical-align: middle;\n",
       "    }\n",
       "\n",
       "    .dataframe tbody tr th {\n",
       "        vertical-align: top;\n",
       "    }\n",
       "\n",
       "    .dataframe thead th {\n",
       "        text-align: right;\n",
       "    }\n",
       "</style>\n",
       "<table border=\"1\" class=\"dataframe\">\n",
       "  <thead>\n",
       "    <tr style=\"text-align: right;\">\n",
       "      <th></th>\n",
       "      <th>max_depth</th>\n",
       "      <th>min_impurity_decrease</th>\n",
       "      <th>min_samples_leaf</th>\n",
       "      <th>accuracy</th>\n",
       "    </tr>\n",
       "  </thead>\n",
       "  <tbody>\n",
       "    <tr>\n",
       "      <th>29</th>\n",
       "      <td>9</td>\n",
       "      <td>0.000316</td>\n",
       "      <td>2</td>\n",
       "      <td>0.310417</td>\n",
       "    </tr>\n",
       "    <tr>\n",
       "      <th>25</th>\n",
       "      <td>9</td>\n",
       "      <td>0.000100</td>\n",
       "      <td>2</td>\n",
       "      <td>0.310417</td>\n",
       "    </tr>\n",
       "    <tr>\n",
       "      <th>21</th>\n",
       "      <td>9</td>\n",
       "      <td>0.000032</td>\n",
       "      <td>2</td>\n",
       "      <td>0.310417</td>\n",
       "    </tr>\n",
       "    <tr>\n",
       "      <th>17</th>\n",
       "      <td>9</td>\n",
       "      <td>0.000010</td>\n",
       "      <td>2</td>\n",
       "      <td>0.310417</td>\n",
       "    </tr>\n",
       "    <tr>\n",
       "      <th>60</th>\n",
       "      <td>17</td>\n",
       "      <td>0.000316</td>\n",
       "      <td>1</td>\n",
       "      <td>0.302083</td>\n",
       "    </tr>\n",
       "    <tr>\n",
       "      <th>56</th>\n",
       "      <td>17</td>\n",
       "      <td>0.000100</td>\n",
       "      <td>1</td>\n",
       "      <td>0.302083</td>\n",
       "    </tr>\n",
       "    <tr>\n",
       "      <th>52</th>\n",
       "      <td>17</td>\n",
       "      <td>0.000032</td>\n",
       "      <td>1</td>\n",
       "      <td>0.302083</td>\n",
       "    </tr>\n",
       "    <tr>\n",
       "      <th>48</th>\n",
       "      <td>17</td>\n",
       "      <td>0.000010</td>\n",
       "      <td>1</td>\n",
       "      <td>0.302083</td>\n",
       "    </tr>\n",
       "    <tr>\n",
       "      <th>76</th>\n",
       "      <td>21</td>\n",
       "      <td>0.000316</td>\n",
       "      <td>1</td>\n",
       "      <td>0.302083</td>\n",
       "    </tr>\n",
       "    <tr>\n",
       "      <th>72</th>\n",
       "      <td>21</td>\n",
       "      <td>0.000100</td>\n",
       "      <td>1</td>\n",
       "      <td>0.302083</td>\n",
       "    </tr>\n",
       "  </tbody>\n",
       "</table>\n",
       "</div>"
      ],
      "text/plain": [
       "    max_depth  min_impurity_decrease  min_samples_leaf  accuracy\n",
       "29          9               0.000316                 2  0.310417\n",
       "25          9               0.000100                 2  0.310417\n",
       "21          9               0.000032                 2  0.310417\n",
       "17          9               0.000010                 2  0.310417\n",
       "60         17               0.000316                 1  0.302083\n",
       "56         17               0.000100                 1  0.302083\n",
       "52         17               0.000032                 1  0.302083\n",
       "48         17               0.000010                 1  0.302083\n",
       "76         21               0.000316                 1  0.302083\n",
       "72         21               0.000100                 1  0.302083"
      ]
     },
     "execution_count": 16,
     "metadata": {},
     "output_type": "execute_result"
    }
   ],
   "source": [
    "from sklearn.tree import DecisionTreeClassifier\n",
    "\n",
    "Decision_Tree = DecisionTreeClassifier(random_state = 0, criterion = \"entropy\") # gini is default\n",
    "\n",
    "param_grid = ParameterGrid({\n",
    "    'max_depth': np.arange(5, 32,4),\n",
    "    'min_samples_leaf': 2 ** np.arange(4),\n",
    "    \"min_impurity_decrease\": 10 ** np.arange(-5,-3,0.5)\n",
    "})\n",
    "\n",
    "results = []\n",
    "\n",
    "for params in tqdm(param_grid):\n",
    "    Decision_Tree.set_params(**params)\n",
    "    Decision_Tree.fit(X_train_little, y_train_little)\n",
    "    y_pred = Decision_Tree.predict(X_val_little)\n",
    "    params[\"accuracy\"] = accuracy(y_pred, y_val_little)\n",
    "    results.append(params)\n",
    "    \n",
    "results = pd.DataFrame(results)\n",
    "\n",
    "\n",
    "results_ordered = results.sort_values([\"accuracy\",\"max_depth\",\"min_samples_leaf\",\"min_impurity_decrease\"],     \n",
    "                              ascending = [False,True,False,False]) \n",
    "results_ordered.head(10)"
   ]
  },
  {
   "cell_type": "code",
   "execution_count": 17,
   "metadata": {
    "ExecuteTime": {
     "end_time": "2020-12-30T10:31:17.310858Z",
     "start_time": "2020-12-30T10:31:13.273509Z"
    }
   },
   "outputs": [
    {
     "data": {
      "text/plain": [
       "0.3211009174311927"
      ]
     },
     "execution_count": 17,
     "metadata": {},
     "output_type": "execute_result"
    }
   ],
   "source": [
    "Decision_Tree.set_params(**param_grid[results_ordered.index[0]])\n",
    "Decision_Tree.fit(x_train, y_train)\n",
    "y_pred = Decision_Tree.predict(x_validation)\n",
    "accuracy(y_pred, y_validation)"
   ]
  },
  {
   "cell_type": "code",
   "execution_count": 18,
   "metadata": {
    "ExecuteTime": {
     "end_time": "2020-12-30T10:31:18.715934Z",
     "start_time": "2020-12-30T10:31:17.312854Z"
    }
   },
   "outputs": [
    {
     "data": {
      "text/plain": [
       "0.3761467889908257"
      ]
     },
<<<<<<< HEAD
     "execution_count": 18,
=======
     "execution_count": 10,
>>>>>>> 102a1c6bdb58dbdafd841588f4193c298520840e
     "metadata": {},
     "output_type": "execute_result"
    }
   ],
   "source": [
    "#using gini impurity\n",
    "\n",
    "Decision_Tree.set_params(**param_grid[results_ordered.index[0]])\n",
    "Decision_Tree.set_params(criterion = \"gini\")\n",
    "Decision_Tree.fit(x_train, y_train)\n",
    "y_pred = Decision_Tree.predict(x_validation)\n",
    "accuracy(y_pred, y_validation)"
   ]
  },
  {
   "cell_type": "markdown",
   "metadata": {},
   "source": [
    "### Random Forest"
   ]
  },
  {
   "cell_type": "code",
   "execution_count": 24,
   "metadata": {
    "ExecuteTime": {
     "end_time": "2020-12-30T10:35:23.663791Z",
     "start_time": "2020-12-30T10:35:21.082767Z"
    }
   },
   "outputs": [
    {
     "data": {
      "text/plain": [
       "0.7155963302752294"
      ]
     },
     "execution_count": 24,
     "metadata": {},
     "output_type": "execute_result"
    }
   ],
   "source": [
    "from sklearn.ensemble import RandomForestClassifier\n",
    "\n",
    "Random_Forest = RandomForestClassifier(n_estimators=100, random_state = 0, bootstrap = True)\n",
    "Random_Forest.set_params(**param_grid[results_ordered.index[0]])\n",
    "Random_Forest.fit(x_train, y_train)\n",
    "y_pred = Random_Forest.predict(x_validation)\n",
    "accuracy(y_pred, y_validation)"
   ]
  },
  {
   "cell_type": "markdown",
   "metadata": {},
   "source": [
    "# SVM"
   ]
  },
  {
   "cell_type": "code",
   "execution_count": 35,
   "metadata": {
    "ExecuteTime": {
     "end_time": "2020-12-30T10:52:30.067510Z",
     "start_time": "2020-12-30T10:50:57.268109Z"
    }
   },
   "outputs": [
    {
     "data": {
      "application/vnd.jupyter.widget-view+json": {
       "model_id": "725837eb52a44ac1b9fe0437aa4b51b4",
       "version_major": 2,
       "version_minor": 0
      },
      "text/plain": [
       "HBox(children=(FloatProgress(value=0.0, max=30.0), HTML(value='')))"
      ]
     },
     "metadata": {},
     "output_type": "display_data"
    },
    {
     "name": "stdout",
     "output_type": "stream",
     "text": [
      "\n"
     ]
    },
    {
     "data": {
      "text/html": [
       "<div>\n",
       "<style scoped>\n",
       "    .dataframe tbody tr th:only-of-type {\n",
       "        vertical-align: middle;\n",
       "    }\n",
       "\n",
       "    .dataframe tbody tr th {\n",
       "        vertical-align: top;\n",
       "    }\n",
       "\n",
       "    .dataframe thead th {\n",
       "        text-align: right;\n",
       "    }\n",
       "</style>\n",
       "<table border=\"1\" class=\"dataframe\">\n",
       "  <thead>\n",
       "    <tr style=\"text-align: right;\">\n",
       "      <th></th>\n",
       "      <th>C</th>\n",
       "      <th>kernel</th>\n",
       "      <th>accuracy</th>\n",
       "    </tr>\n",
       "  </thead>\n",
       "  <tbody>\n",
       "    <tr>\n",
       "      <th>8</th>\n",
       "      <td>8.571436</td>\n",
       "      <td>rbf</td>\n",
       "      <td>0.631250</td>\n",
       "    </tr>\n",
       "    <tr>\n",
       "      <th>10</th>\n",
       "      <td>10.714292</td>\n",
       "      <td>rbf</td>\n",
       "      <td>0.622917</td>\n",
       "    </tr>\n",
       "    <tr>\n",
       "      <th>12</th>\n",
       "      <td>12.857149</td>\n",
       "      <td>rbf</td>\n",
       "      <td>0.618750</td>\n",
       "    </tr>\n",
       "    <tr>\n",
       "      <th>6</th>\n",
       "      <td>6.428579</td>\n",
       "      <td>rbf</td>\n",
       "      <td>0.618750</td>\n",
       "    </tr>\n",
       "    <tr>\n",
       "      <th>16</th>\n",
       "      <td>17.142861</td>\n",
       "      <td>rbf</td>\n",
       "      <td>0.616667</td>\n",
       "    </tr>\n",
       "    <tr>\n",
       "      <th>14</th>\n",
       "      <td>15.000005</td>\n",
       "      <td>rbf</td>\n",
       "      <td>0.616667</td>\n",
       "    </tr>\n",
       "    <tr>\n",
       "      <th>18</th>\n",
       "      <td>19.285718</td>\n",
       "      <td>rbf</td>\n",
       "      <td>0.614583</td>\n",
       "    </tr>\n",
       "    <tr>\n",
       "      <th>4</th>\n",
       "      <td>4.285723</td>\n",
       "      <td>rbf</td>\n",
       "      <td>0.612500</td>\n",
       "    </tr>\n",
       "    <tr>\n",
       "      <th>28</th>\n",
       "      <td>30.000000</td>\n",
       "      <td>rbf</td>\n",
       "      <td>0.610417</td>\n",
       "    </tr>\n",
       "    <tr>\n",
       "      <th>20</th>\n",
       "      <td>21.428574</td>\n",
       "      <td>rbf</td>\n",
       "      <td>0.610417</td>\n",
       "    </tr>\n",
       "  </tbody>\n",
       "</table>\n",
       "</div>"
      ],
      "text/plain": [
       "            C kernel  accuracy\n",
       "8    8.571436    rbf  0.631250\n",
       "10  10.714292    rbf  0.622917\n",
       "12  12.857149    rbf  0.618750\n",
       "6    6.428579    rbf  0.618750\n",
       "16  17.142861    rbf  0.616667\n",
       "14  15.000005    rbf  0.616667\n",
       "18  19.285718    rbf  0.614583\n",
       "4    4.285723    rbf  0.612500\n",
       "28  30.000000    rbf  0.610417\n",
       "20  21.428574    rbf  0.610417"
      ]
     },
     "execution_count": 35,
     "metadata": {},
     "output_type": "execute_result"
    }
   ],
   "source": [
    "from sklearn import svm\n",
    "\n",
    "SVM_classifier = svm.SVC(random_state = 0)\n",
    "\n",
    "param_grid = ParameterGrid({\n",
    "    'kernel': [\"rbf\",\"poly\"],\n",
    "    'C': np.linspace(1e-5, 30 ,15),\n",
    "})\n",
    "\n",
    "results = []\n",
    "\n",
    "for params in tqdm(param_grid):\n",
    "    SVM_classifier.set_params(**params)\n",
    "    SVM_classifier.fit(X_train_little, y_train_little)\n",
    "    y_pred = SVM_classifier.predict(X_val_little)\n",
    "    params[\"accuracy\"] = accuracy(y_pred, y_val_little)\n",
    "    results.append(params)\n",
    "    \n",
    "results = pd.DataFrame(results)\n",
    "\n",
    "\n",
    "results_ordered = results.sort_values([\"accuracy\",'C'],     \n",
    "                              ascending = [False,False]) \n",
    "results_ordered.head(10)"
   ]
  },
  {
   "cell_type": "code",
   "execution_count": 36,
   "metadata": {
    "ExecuteTime": {
     "end_time": "2020-12-30T10:52:30.291303Z",
     "start_time": "2020-12-30T10:52:30.070503Z"
    }
   },
   "outputs": [
    {
     "data": {
      "text/plain": [
       "<matplotlib.lines.Line2D at 0x1e32aa01448>"
      ]
     },
     "execution_count": 36,
     "metadata": {},
     "output_type": "execute_result"
    },
    {
     "data": {
      "image/png": "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\n",
      "text/plain": [
       "<Figure size 432x288 with 1 Axes>"
      ]
     },
     "metadata": {
      "needs_background": "light"
     },
     "output_type": "display_data"
    }
   ],
   "source": [
    "plt.plot(\"C\", \"accuracy\", data = results[results[\"kernel\"] == \"rbf\"], lw = 3, label = \"gaussian kernel\")\n",
    "plt.plot(\"C\", \"accuracy\", data = results[results[\"kernel\"] == \"poly\"], lw = 3, label = \"polynomial kernel\", color = \"g\")\n",
    "plt.title(\"Best C\")\n",
    "plt.xlabel(\"C\")\n",
    "plt.ylabel(\"Accuracy\")\n",
    "plt.legend()\n",
    "plt.axvline(x=param_grid[results_ordered.index[0]][\"C\"], color='r', linestyle='--')"
   ]
  },
  {
   "cell_type": "code",
   "execution_count": 37,
   "metadata": {
    "ExecuteTime": {
     "end_time": "2020-12-30T10:53:48.075614Z",
     "start_time": "2020-12-30T10:53:43.358765Z"
    }
   },
   "outputs": [
    {
     "data": {
      "text/plain": [
       "0.8348623853211009"
      ]
     },
     "execution_count": 37,
     "metadata": {},
     "output_type": "execute_result"
    }
   ],
   "source": [
    "SVM_classifier.set_params(**param_grid[results_ordered.index[0]])\n",
    "SVM_classifier.fit(x_train, y_train)\n",
    "y_pred = SVM_classifier.predict(x_validation)\n",
    "accuracy(y_pred, y_validation)"
   ]
  },
  {
   "cell_type": "code",
   "execution_count": null,
   "metadata": {},
   "outputs": [],
   "source": []
  },
  {
   "cell_type": "code",
   "execution_count": null,
   "metadata": {},
   "outputs": [],
   "source": []
  },
  {
   "cell_type": "code",
   "execution_count": null,
   "metadata": {},
   "outputs": [],
   "source": []
  },
  {
   "cell_type": "code",
   "execution_count": null,
   "metadata": {},
   "outputs": [],
   "source": []
  },
  {
   "cell_type": "code",
   "execution_count": null,
   "metadata": {},
   "outputs": [],
   "source": []
  },
  {
   "cell_type": "code",
   "execution_count": null,
   "metadata": {},
   "outputs": [],
   "source": []
  },
  {
   "cell_type": "code",
   "execution_count": null,
   "metadata": {},
   "outputs": [],
   "source": []
  },
  {
   "cell_type": "code",
   "execution_count": null,
   "metadata": {},
   "outputs": [],
   "source": []
  },
  {
   "cell_type": "code",
   "execution_count": null,
   "metadata": {},
   "outputs": [],
   "source": []
  },
  {
   "cell_type": "code",
   "execution_count": null,
   "metadata": {},
   "outputs": [],
   "source": []
  },
  {
   "cell_type": "code",
   "execution_count": null,
   "metadata": {},
   "outputs": [],
<<<<<<< HEAD
   "source": []
  },
  {
   "cell_type": "code",
   "execution_count": 2,
   "metadata": {
    "ExecuteTime": {
     "end_time": "2020-12-30T10:20:42.701527Z",
     "start_time": "2020-12-30T10:20:42.689561Z"
    }
   },
   "outputs": [],
   "source": [
    "import dill\n",
    "dill.load_session('env.db')"
   ]
  },
  {
   "cell_type": "code",
   "execution_count": 38,
   "metadata": {
    "ExecuteTime": {
     "end_time": "2020-12-30T10:54:10.538447Z",
     "start_time": "2020-12-30T10:54:09.985124Z"
    }
   },
   "outputs": [],
   "source": [
    "import dill\n",
    "dill.dump_session('env.db')"
=======
   "source": [
    "Linear Classification\n",
    "Logistic regression\n",
    "Knn\n",
    "NN\n",
    "Tree\n",
    "SVM"
>>>>>>> 102a1c6bdb58dbdafd841588f4193c298520840e
   ]
  }
 ],
 "metadata": {
  "kernelspec": {
   "display_name": "Python 3",
   "language": "python",
   "name": "python3"
  },
  "language_info": {
   "codemirror_mode": {
    "name": "ipython",
    "version": 3
   },
   "file_extension": ".py",
   "mimetype": "text/x-python",
   "name": "python",
   "nbconvert_exporter": "python",
   "pygments_lexer": "ipython3",
<<<<<<< HEAD
   "version": "3.7.9"
  }
 },
 "nbformat": 4,
 "nbformat_minor": 2
=======
   "version": "3.8.5"
  }
 },
 "nbformat": 4,
 "nbformat_minor": 4
>>>>>>> 102a1c6bdb58dbdafd841588f4193c298520840e
}
